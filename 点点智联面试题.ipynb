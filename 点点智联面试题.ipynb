{
  "cells": [
    {
      "cell_type": "markdown",
      "metadata": {
        "id": "view-in-github",
        "colab_type": "text"
      },
      "source": [
        "<a href=\"https://colab.research.google.com/github/Jackson-L-6/test/blob/main/%E7%82%B9%E7%82%B9%E6%99%BA%E8%81%94%E9%9D%A2%E8%AF%95%E9%A2%98.ipynb\" target=\"_parent\"><img src=\"https://colab.research.google.com/assets/colab-badge.svg\" alt=\"Open In Colab\"/></a>"
      ]
    },
    {
      "cell_type": "markdown",
      "metadata": {
        "id": "RiCxqA5zrYVe"
      },
      "source": [
        "# 一丶概念论述"
      ],
      "id": "RiCxqA5zrYVe"
    },
    {
      "cell_type": "markdown",
      "metadata": {
        "id": "CRUaxBTzrYVh"
      },
      "source": [
        "## 1.什么是python？平时在哪里学习python?"
      ],
      "id": "CRUaxBTzrYVh"
    },
    {
      "cell_type": "code",
      "execution_count": null,
      "metadata": {
        "id": "DtfZ-db2rYVi"
      },
      "outputs": [],
      "source": [
        "# 什么是python\n",
        "# Python是一门高级的、开源的、面向对象的解释性语言\n",
        "# Python的特点：\n",
        "# 1、简洁易学：拥有简洁清晰的语法结构，使得它更易于阅读理解和学习，\n",
        "# 2、多样性：拥有大量丰富的库和框架（如NumPy、Pandas、Django、Flask等）\n",
        "# 3、可移植性：可以在多个操作系统上运行（Windows、Linux、macOS等）\n",
        "# 4、功能强大：支持面向对象和函数式编程，应用广泛（数据处理、网络编程、Web开发、人工智能、科学计算等多个领域）\n",
        "\n",
        "# 平时从哪里学习python\n",
        "# 1、官方文档\n",
        "# 2、在线平台（B站、慕课、百度飞浆AIStudio、阿里云天池等）\n",
        "# 3、书籍（Python编程从入门到实践、流畅的Python等）\n",
        "# 4、项目实践（开发小型应用程序、实现开源项目、阅读并复现部分源码）\n",
        "# 5、在线社区和论坛（GitHub、Gitee、StackOverflow、博客园、CSDN、知乎等）\n",
        "# 6、编程挑战和竞赛网站（LeetCode、Kaggle等）"
      ],
      "id": "DtfZ-db2rYVi"
    },
    {
      "cell_type": "markdown",
      "metadata": {
        "id": "wk17hOMGrYVj"
      },
      "source": [
        "## 2.PEP8规范"
      ],
      "id": "wk17hOMGrYVj"
    },
    {
      "cell_type": "code",
      "execution_count": null,
      "metadata": {
        "id": "JVITHRNRrYVk"
      },
      "outputs": [],
      "source": [
        "# PEP8规范主要有：\n",
        "# 1、缩进：使用4个空格进行缩进，不要使用制表符\n",
        "# 2、行的最大长度：每行代码推荐不超过79个字符。可以在适当的地方使用括号换行\n",
        "# 3、命名：变量名使用小写字母，常量名全大写，单词之间用下划线分隔，类名使用驼峰命名法（CamelCase）\n",
        "# 4、空格：在二元运算符（如+、-、*、/等）两侧添加空格，逗号后添加一个空格，冒号后不应添加空格\n",
        "# 5、空行：函数之间、类之间以及函数或类内部的逻辑块之间用空行分隔。\n",
        "# 6、注释：要给代码添加适当且清晰简洁注释\n",
        "# 7、导入：每个导入应该独占一行，避免使用通配符导入，应该明确导入的模块或对象。\n",
        "# 8、函数和方法：函数和方法之间应该有两个空行；函数定义应该使用两个空行分隔；遵循参数传递的规范。"
      ],
      "id": "JVITHRNRrYVk"
    },
    {
      "cell_type": "markdown",
      "metadata": {
        "id": "8FFTechOrYVk"
      },
      "source": [
        "## 3.Ascii,Unicode,utf-8,gbk区别"
      ],
      "id": "8FFTechOrYVk"
    },
    {
      "cell_type": "code",
      "execution_count": null,
      "metadata": {
        "id": "VvtUAeqJrYVk"
      },
      "outputs": [],
      "source": [
        "# ASCII：ASCII是一种最早的字符编码标准，用于表示基本的拉丁字母、数字和一些特殊字符，总共包含128个字符。每个字符用7位二进制数表示。\n",
        "# Unicode：是一个全球性的字符集标准，包含了各种语言的文字，涵盖了数十万个字符。Unicode使用16位（双字节）、32位（四字节）甚至更多的编码来表示字符。\n",
        "# UTF-8：是一种针对Unicode的变长字符编码，使用1至4个字节来表示不同的Unicode字符。它是一种对Unicode编码进行编码的方式，能够表示Unicode中的所有字符。\n",
        "# GBK：GBK是中国制定的中文编码标准，它是对汉字编码的一种扩展，包含了中文字符、符号、以及部分繁体字等。相比于ASCII，GBK能够支持更多的字符，但局限于特定语言和区域"
      ],
      "id": "VvtUAeqJrYVk"
    },
    {
      "cell_type": "markdown",
      "metadata": {
        "id": "thMQup4srYVk"
      },
      "source": [
        "## 4.谈谈你对面向对象的理解"
      ],
      "id": "thMQup4srYVk"
    },
    {
      "cell_type": "code",
      "execution_count": null,
      "metadata": {
        "id": "RsJ8diHJrYVl"
      },
      "outputs": [],
      "source": [
        "# 面向对象有以下几大特征：\n",
        "# 1、封装：指的是将数据和方法封装在一个对象内部，并对外部隐藏对象的内部实现细节。通过这种方式，对象暴露特定的接口供其他对象使用，同时可以保护数据不受外部直接访问和修改。\n",
        "# 2、继承：允许一个类（子类）继承另一个类（父类）的属性和方法。子类可以重用父类的代码，并且可以在其基础上添加新的属性和方法，从而实现代码的重用和扩展。\n",
        "# 3、多态：允许不同的对象对同一个消息作出不同的响应。同一个方法可以在不同的对象上具有不同的行为。这提高了代码的灵活性和可扩展性。\n",
        "# 4、类与对象：类是创建对象的模板，它定义了对象的属性和方法。对象是类的实例，拥有不同的属性（类定义的属性），也可以做不同的事情（类定义的方法），具体表现为类的一个具体实体。\n",
        "# 5、抽象：抽象是从多个对象中抽取共同的特征，然后创建类来描述这些特征的过程。它使得我们可以专注于对象的重要特征，忽略次要的细节。\n",
        "# 面向对象编程有助于提高代码的可读性、可维护性和复用性，通过将代码组织成对象，使得程序的设计更加灵活和可扩展。对象可以模拟现实世界中的事物，因此面向对象的设计思维方式可以更直观地解决问题。"
      ],
      "id": "RsJ8diHJrYVl"
    },
    {
      "cell_type": "markdown",
      "metadata": {
        "id": "L5j0iga8rYVl"
      },
      "source": [
        "## 5.基础数据类型有哪些"
      ],
      "id": "L5j0iga8rYVl"
    },
    {
      "cell_type": "code",
      "execution_count": null,
      "metadata": {
        "id": "P5e7sKDqrYVl"
      },
      "outputs": [],
      "source": [
        "# 基本数据类型有：int、float、str、bool、list、dict、tuple、set"
      ],
      "id": "P5e7sKDqrYVl"
    },
    {
      "cell_type": "markdown",
      "metadata": {
        "id": "_niqIg_XrYVm"
      },
      "source": [
        "## 6.什么是RPA"
      ],
      "id": "_niqIg_XrYVm"
    },
    {
      "cell_type": "code",
      "execution_count": null,
      "metadata": {
        "id": "DUvJIjdgrYVm"
      },
      "outputs": [],
      "source": [
        "# RPA（机器人流程自动化）是一种是一种根据预先设定的程序，通过模拟并增强人类与计算机的交互过程，代替人工执行基于一定规则的大批量、可重复性任务，\n",
        "# 比如理解屏幕上的内容、完成正确的按键操作、导航系统、识别和提取数据、执行一系列定义好的操作等，实现工作流程自动化的软件或平台，核心是基于流程自动化技术。"
      ],
      "id": "DUvJIjdgrYVm"
    },
    {
      "cell_type": "markdown",
      "metadata": {
        "id": "69GxQ4A-rYVm"
      },
      "source": [
        "# 二丶代码逻辑"
      ],
      "id": "69GxQ4A-rYVm"
    },
    {
      "cell_type": "markdown",
      "metadata": {
        "id": "FN5baRRZrYVm"
      },
      "source": [
        "## 1.求结果并且给出结论"
      ],
      "id": "FN5baRRZrYVm"
    },
    {
      "cell_type": "code",
      "execution_count": null,
      "metadata": {
        "id": "wpWtrXa6rYVm"
      },
      "outputs": [],
      "source": [
        "#1. 求结果：\n",
        "\n",
        "1 or 3\n",
        "\n",
        "#2. 求结果：\n",
        "1 and 3\n",
        "\n",
        "#3. 求结果：\n",
        "0 and 2 and 1\n",
        "\n",
        "\n",
        "#4. 求结果：\n",
        "0 and 2 or 1\n",
        "\n",
        "#5. 求结果：\n",
        "0 and 2 or 1 or 4\n",
        "\n",
        "#6. 求结果：\n",
        "0 or False and 1\n",
        "\n",
        "\n",
        "\n",
        "#结论：\n",
        "1、3、0、1、1、False"
      ],
      "id": "wpWtrXa6rYVm"
    },
    {
      "cell_type": "markdown",
      "metadata": {
        "id": "FM5ILEGnrYVo"
      },
      "source": [
        "## 2. 通过Join将列表拼接成"
      ],
      "id": "FM5ILEGnrYVo"
    },
    {
      "cell_type": "code",
      "execution_count": null,
      "metadata": {
        "id": "NtZyWMxlrYVo"
      },
      "outputs": [],
      "source": [
        "lis = [1949,'年',10,'月',1,'日','中华人民共和国中央人民政府成立']\n",
        "lis = [str(item) for item in lis]# 将列表中的整数类型转换为字符串类型\n",
        "result = ''.join(lis)# 使用join方法拼接字符串\n",
        "print(result) # 输出 1949年10月1日中华人民共和国中央人民政府成立"
      ],
      "id": "NtZyWMxlrYVo"
    },
    {
      "cell_type": "markdown",
      "metadata": {
        "id": "qIGgnEoerYVo"
      },
      "source": [
        "## 3.三元运算的写法和应用场景"
      ],
      "id": "qIGgnEoerYVo"
    },
    {
      "cell_type": "code",
      "execution_count": null,
      "metadata": {
        "id": "8_vW97A5rYVp"
      },
      "outputs": [],
      "source": [
        "# 三元运算符（也称为条件表达式）允许使用一行代码根据条件来选择两个值中的一个。其写法为：value_if_true if condition else value_if_false\n",
        "# 应用场景有：\n",
        "# 1、赋值操作：根据条件将不同的值赋给变量。\n",
        "x = 10\n",
        "y = 20\n",
        "max_value = x if x > y else y # max_vakue=20\n",
        "\n",
        "# 2、函数返回值：根据条件返回不同的结果。\n",
        "def check_even(num):\n",
        "    return \"Even\" if num % 2 == 0 else \"Odd\"\n",
        "result = check_even(5) # result=\"Odd\"\n",
        "\n",
        "# 3、简化的逻辑表达式：简化某些条件逻辑。\n",
        "age = 25\n",
        "message = \"Adult\" if age >= 18 else \"Minor\" # message=\"Adult\"\n",
        "\n",
        "# 4、列表推导式：用于生成列表的简洁方式，根据条件选择列表中的元素。\n",
        "numbers = [1, 2, 3, 4, 5]\n",
        "squared_numbers = [x**2 if x % 2 == 0 else x for x in numbers] # squared_numbers=[1, 4, 3, 16, 5]\n",
        "\n",
        "# 5、字典操作：在字典推导式中使用三元运算符根据条件生成字典的键值对。\n",
        "is_even = {x: \"Even\" if x % 2 == 0 else \"Odd\" for x in range(1, 6)} # is_even={1: 'Odd', 2: 'Even', 3: 'Odd', 4: 'Even', 5: 'Odd'}"
      ],
      "id": "8_vW97A5rYVp"
    },
    {
      "cell_type": "markdown",
      "metadata": {
        "id": "TpcPl-7DrYVp"
      },
      "source": [
        "## 4.\t一行代码实现数值交换"
      ],
      "id": "TpcPl-7DrYVp"
    },
    {
      "cell_type": "code",
      "execution_count": null,
      "metadata": {
        "id": "uFqRiPTorYVp"
      },
      "outputs": [],
      "source": [
        "a = 10\n",
        "b = 20\n",
        "a, b = b, a # a=20, b=10"
      ],
      "id": "uFqRiPTorYVp"
    },
    {
      "cell_type": "markdown",
      "metadata": {
        "id": "Axu20BMIrYVp"
      },
      "source": [
        "## 5.打印99乘法表，并解释原理"
      ],
      "id": "Axu20BMIrYVp"
    },
    {
      "cell_type": "code",
      "execution_count": null,
      "metadata": {
        "id": "9XEWu7o7rYVp"
      },
      "outputs": [],
      "source": [
        "for i in range(1, 10):  # 控制外层循环，i表示被乘数\n",
        "    for j in range(1, i + 1):  # 控制内层循环，j表示乘数\n",
        "        print(f\"{j} * {i} = {i * j}\", end='\\t')\n",
        "    print()\n",
        "# 原理：\n",
        "# 外层循环控制被乘数i，从1循环到9。\n",
        "# 内层循环控制乘数j，从1循环到当前的被乘数 i。\n",
        "# 每次内层循环完成，打印一个乘法表达式，并用end='\\t'实现水平输出，使得乘法表呈现规整的表格形式。\n",
        "# 外层循环中的print()语句用于换行，以开始下一行的乘法表。"
      ],
      "id": "9XEWu7o7rYVp"
    },
    {
      "cell_type": "markdown",
      "metadata": {
        "id": "dXkDhUgVrYVp"
      },
      "source": [
        "## 6. 字符串，列表，字典常用的5种方法"
      ],
      "id": "dXkDhUgVrYVp"
    },
    {
      "cell_type": "code",
      "execution_count": null,
      "metadata": {
        "id": "lb5eYkw5rYVp"
      },
      "outputs": [],
      "source": [
        "# 字符串（str）\n",
        "# 1、len()方法：用于获取字符串的长度。\n",
        "# 2、split()方法：用于将字符串分割成列表，根据指定的分隔符。\n",
        "# 3、strip()方法：用于去除字符串首尾指定字符（默认为空格）。\n",
        "# 4、upper()和lower()方法：分别用于将字符串转换为大写或小写。\n",
        "# 5、join()方法：用于连接序列中的元素，并使用指定字符作为连接符。\n",
        "\n",
        "# 列表（list）\n",
        "# 1、append()方法：用于在列表末尾添加新的元素。\n",
        "# 2、pop()方法：用于移除列表中的一个元素（默认是最后一个），并返回该元素的值。\n",
        "# 3、extend()方法：用于在列表末尾一次性追加另一个序列中的多个值。\n",
        "# 4、index()方法：用于查找列表中某个值第一次出现的索引位置。\n",
        "# 5、sort()方法：用于对列表进行排序。\n",
        "\n",
        "# 字典（dict）\n",
        "# 1、keys()方法：用于返回一个字典中所有键的列表。\n",
        "# 2、values()方法：用于返回一个字典中所有值的列表。\n",
        "# 3、items()方法：用于返回一个字典中所有键值对的元组列表。\n",
        "# 4、get()方法：用于获取指定键的值，如果键不存在，则返回默认值（默认为None）。\n",
        "# 5、update()方法：用于更新字典中的键值对。"
      ],
      "id": "lb5eYkw5rYVp"
    },
    {
      "cell_type": "markdown",
      "metadata": {
        "id": "LtNRel7ErYVp"
      },
      "source": [
        "## 7.现有两个元组(('a'),('b')),(('c'),('d'))，请使用python匿名函数生成列表[{'a':'c'},{'b':'d'}]"
      ],
      "id": "LtNRel7ErYVp"
    },
    {
      "cell_type": "code",
      "execution_count": null,
      "metadata": {
        "id": "O9cxxvs4rYVp"
      },
      "outputs": [],
      "source": [
        "tuple1 = (('a'), ('b'))\n",
        "tuple2 = (('c'), ('d'))\n",
        "func = lambda t1, t2: [{x[0]: y[0]} for x, y in zip(tuple1, tuple2)]\n",
        "result = func(tuple1,tuple2) # result=[{'a': 'c'}, {'b': 'd'}]"
      ],
      "id": "O9cxxvs4rYVp"
    },
    {
      "cell_type": "markdown",
      "metadata": {
        "id": "3-yw32WPrYVq"
      },
      "source": [
        "## 8.求V的结果"
      ],
      "id": "3-yw32WPrYVq"
    },
    {
      "cell_type": "code",
      "execution_count": null,
      "metadata": {
        "id": "FR0emi25rYVq"
      },
      "outputs": [],
      "source": [
        "v = dict.fromkeys(['k1', 'k2'], [])\n",
        "v['k1'].append(666)\n",
        "v:\n",
        "结果：\n",
        "{'k1': [666], 'k2': [666]}\n",
        "\n",
        "解释：\n",
        "# dict.fromkeys(['k1','k2'],[])创建了一个字典v，其中，'k1'和'k2'指向同一个列表对象，共享相同的空列表[]作为它们的值,\n",
        "# 如果对其中一个键对应的列表做修改，会影响到其他键对应的列表\n",
        "\n",
        "v1 = dict.fromkeys(['k1', 'k2'])\n",
        "v1: {'k1': None, 'k2': None}\n",
        "\n",
        "v2 = dict.fromkeys(['k1', 'k2'], [])\n",
        "v2: {'k1': [], 'k2': []}"
      ],
      "id": "FR0emi25rYVq"
    },
    {
      "cell_type": "markdown",
      "metadata": {
        "id": "8ifLMzmerYVq"
      },
      "source": [
        "## 9.常见内置函数"
      ],
      "id": "8ifLMzmerYVq"
    },
    {
      "cell_type": "code",
      "execution_count": null,
      "metadata": {
        "id": "H88PU-ykrYVq"
      },
      "outputs": [],
      "source": [
        "# 类型转换函数\n",
        "# int()：将一个数值或字符串转换为整数。\n",
        "# float()：将一个数值或字符串转换为浮点数。\n",
        "# str()：将对象转换为字符串。\n",
        "# list()：将可迭代对象转换为列表。\n",
        "# tuple()：将可迭代对象转换为元组。\n",
        "\n",
        "# 数据结构相关函数\n",
        "# len()：返回对象的长度（适用于字符串、列表、元组、字典等）。\n",
        "# max()：返回可迭代对象中的最大值。\n",
        "# min()：返回可迭代对象中的最小值.\n",
        "\n",
        "# 输入输出相关函数\n",
        "# print()：打印输出内容到控制台。\n",
        "# input()：从用户输入获取数据。\n",
        "\n",
        "# 文件操作相关函数\n",
        "# open()：用于打开文件。\n",
        "# close()：用于关闭文件。\n",
        "\n",
        "# 数学运算函数\n",
        "# abs()：返回绝对值。\n",
        "# pow()：返回指定数字的指数值。\n",
        "# round()：四舍五入数字。\n",
        "\n",
        "# 集合操作函数\n",
        "# set()：创建一个集合对象。\n",
        "# sorted()：返回排序后的列表。\n",
        "# sum()：返回可迭代对象的总和。\n",
        "\n",
        "# 条件和逻辑函数\n",
        "# all()：判断可迭代对象中所有元素是否为真。\n",
        "# any()：判断可迭代对象中是否存在真元素。\n",
        "\n",
        "# 其他常见函数\n",
        "# type()：返回对象的类型。\n",
        "# range()：创建一个整数列表。\n",
        "# enumerate()：返回可迭代对象的索引和值。\n",
        "# zip()：将多个可迭代对象组合成一个元组"
      ],
      "id": "H88PU-ykrYVq"
    },
    {
      "cell_type": "markdown",
      "metadata": {
        "id": "u-a1uIb5rYVq"
      },
      "source": [
        "## 10.实现 \"1, 2, 3\" 变成 ['1', '2', '3']"
      ],
      "id": "u-a1uIb5rYVq"
    },
    {
      "cell_type": "code",
      "execution_count": null,
      "metadata": {
        "id": "JX71ZUwOrYVq"
      },
      "outputs": [],
      "source": [
        "my_str = \"1, 2, 3\"\n",
        "result_list = my_str.split(', ') # result_list=['1', '2', '3']\n"
      ],
      "id": "JX71ZUwOrYVq"
    },
    {
      "cell_type": "markdown",
      "metadata": {
        "id": "3lOoHocsrYVq"
      },
      "source": [
        "## 11.如何实现[‘1’,’2’,’3’]变成[1,2,3]"
      ],
      "id": "3lOoHocsrYVq"
    },
    {
      "cell_type": "code",
      "execution_count": null,
      "metadata": {
        "id": "JmG1yxw0rYVq"
      },
      "outputs": [],
      "source": [
        "a = ['1', '2', '3']\n",
        "b = [int(i) for i in a] # b=[1, 2, 3]"
      ],
      "id": "JmG1yxw0rYVq"
    },
    {
      "cell_type": "markdown",
      "metadata": {
        "id": "Oc1mubqCrYVq"
      },
      "source": [
        "## 12.删除列表重复值 [1, 2, 3, 4, 45, 1, 2, 343, 2, 2]"
      ],
      "id": "Oc1mubqCrYVq"
    },
    {
      "cell_type": "code",
      "execution_count": null,
      "metadata": {
        "id": "Z_98ARKErYVq"
      },
      "outputs": [],
      "source": [
        "my_list = [1, 2, 3, 4, 45, 1, 2, 343, 2, 2]\n",
        "unique_list = list(set(my_list)) # unique_list=[1, 2, 3, 4, 45, 343]"
      ],
      "id": "Z_98ARKErYVq"
    },
    {
      "cell_type": "markdown",
      "metadata": {
        "id": "BQuIbBtXrYVr"
      },
      "source": [
        "## 13.请用代码简答实现stack"
      ],
      "id": "BQuIbBtXrYVr"
    },
    {
      "cell_type": "code",
      "execution_count": null,
      "metadata": {
        "id": "t_o74TX6rYV0"
      },
      "outputs": [],
      "source": [
        "# 实现一个栈stack,后进先出\n",
        "# Stack() 创建一个新的空栈\n",
        "# push(item) 添加一个新的元素item到栈顶\n",
        "# pop() 弹出栈顶元素\n",
        "# peek() 返回栈顶元素\n",
        "# is_empty() 判断栈是否为空\n",
        "# size() 返回栈的元素个数\n",
        "class Stack:\n",
        "    def __init__(self):# 初始化方法，创建一个空列表作为栈的内部数据结构。\n",
        "        self.items = []\n",
        "\n",
        "    def is_empty(self):# 判断栈是否为空，当栈中元素个数为 0 时返回 True。\n",
        "        return len(self.items) == 0\n",
        "\n",
        "    def push(self, item):# 将元素添加到栈顶，使用列表的 append() 方法实现。\n",
        "        self.items.append(item)\n",
        "\n",
        "    def pop(self):# 弹出栈顶元素，使用列表的 pop() 方法实现。\n",
        "        if not self.is_empty():\n",
        "            return self.items.pop()\n",
        "\n",
        "    def peek(self):# 返回栈顶元素，不修改栈的状态。\n",
        "        if not self.is_empty():\n",
        "            return self.items[-1]\n",
        "\n",
        "    def size(self):# 返回栈中元素的个数，使用列表的 len() 方法实现。\n",
        "        return len(self.items)\n"
      ],
      "id": "t_o74TX6rYV0"
    },
    {
      "cell_type": "markdown",
      "metadata": {
        "id": "8ZjUYFJJrYV0"
      },
      "source": [
        "## 14.格式化字符串的方法"
      ],
      "id": "8ZjUYFJJrYV0"
    },
    {
      "cell_type": "code",
      "execution_count": null,
      "metadata": {
        "id": "gfM8VYwjrYV1"
      },
      "outputs": [],
      "source": [
        "name = \"Alice\"\n",
        "age = 30\n",
        "\n",
        "# 1. 使用%运算符 （%s用于字符串格式化， %d用于整数格式化， %f用于浮点数格式化）\n",
        "print(\"My name is %s and I am %d years old.\" % (name, age)) # 输出: My name is Alice and I am 30 years old.\n",
        "\n",
        "# 2. 使用str.format()方法\n",
        "print(\"My name is {} and I am {} years old.\".format(name, age)) # 输出: My name is Alice and I am 30 years old.\n",
        "\n",
        "# 3. 使用f-string方法\n",
        "print(f\"My name is {name} and I am {age} years old.\") # 输出: My name is Alice and I am 30 years old."
      ],
      "id": "gfM8VYwjrYV1"
    },
    {
      "cell_type": "markdown",
      "metadata": {
        "id": "l2GwW-lOrYV1"
      },
      "source": [
        "## 15.写一个二分查找，并且解释原理"
      ],
      "id": "l2GwW-lOrYV1"
    },
    {
      "cell_type": "code",
      "execution_count": null,
      "metadata": {
        "id": "Ul6kXRNNrYV1"
      },
      "outputs": [],
      "source": [
        "def binary_search(arr, target):\n",
        "  left, right = 0, len(arr) - 1\n",
        "\n",
        "  while left <= right:\n",
        "    mid = (left + right) // 2\n",
        "    mid_value = arr[mid]\n",
        "    if mid_value == target:\n",
        "      return mid  # 找到目标值，返回索引\n",
        "    elif mid_value < target:\n",
        "      left = mid + 1  # 目标值在右半部分\n",
        "    else:\n",
        "      right = mid - 1  # 目标值在左半部分\n",
        "  return -1  # 没有找到目标值，返回-1\n",
        "\n",
        "if __name__ == \"__main\":\n",
        "    li = [1, 2, 3, 4, 5, 6, 7, 8, 9, 10]\n",
        "    target = 5\n",
        "    result = binary_search(li, target)\n",
        "    if result != -1:\n",
        "        print(f\"元素在索引 {result}\")\n",
        "    else:\n",
        "        print(\"元素不在列表中\")\n",
        "#原理;\n",
        "# 将目标值与列表中间的元素进行比较，如果中间元素就是目标值，则查找成功；\n",
        "# 否则，根据中间元素与目标值的大小关系，可以确定下一步查找的区间，然后在新的区间中重复这个过程，直到找到目标值或区间为空。\n",
        "#优点：\n",
        "# 针对有序列表，时间复杂度为 O(log n)，效率较高。\n",
        "# 比较次数少，查找速度快。\n",
        "#缺点：\n",
        "# 要求列表为有序列表，如果列表未排序，需要先进行排序。\n",
        "# 如果列表元素经常变动，频繁进行插入、删除等操作，二分查找不太适用。"
      ],
      "id": "Ul6kXRNNrYV1"
    },
    {
      "cell_type": "markdown",
      "metadata": {
        "id": "qWO7MqotrYV1"
      },
      "source": [
        "## 16.os和sys模块的作用？"
      ],
      "id": "qWO7MqotrYV1"
    },
    {
      "cell_type": "code",
      "execution_count": null,
      "metadata": {
        "id": "C_hVBfS7rYV1"
      },
      "outputs": [],
      "source": [
        "# os 模块提供了许多与操作系统交互的函数，用于处理文件和目录、管理系统进程、获取操作系统信息等。一些常用的os模块函数包括：\n",
        "# 文件和目录操作：os.listdir()获取目录下的文件和文件夹、os.getcwd()获取当前目录、os.chdir()改变当前工作目录到指定的路径、os.remove()删除指定路径的文件、os.rename()重命名文件等\n",
        "# 路径操作：os.path.join()拼接多个文件路径、os.path.exists()检查文件是否存在、os.path.abspath()获取文件的绝对路径等\n",
        "# 系统进程管理：例如os.system()执行系统命令、os.kill()发送信号给某个进程、os.getpid()获取当前进程的ID\n",
        "\n",
        "# sys 模块提供了与Python解释器及其环境相关的变量和函数。一些常用的sys模块函数和属性包括：\n",
        "# sys.argv：命令行参数列表。\n",
        "# sys.exit()：退出Python解释器。\n",
        "# sys.path：Python模块的搜索路径。\n",
        "# sys.platform：当前平台标识。\n",
        "# sys.version：Python解释器的版本信息。"
      ],
      "id": "C_hVBfS7rYV1"
    },
    {
      "cell_type": "markdown",
      "metadata": {
        "id": "kgrlgKvMrYV1"
      },
      "source": [
        "## 17.try异常使用场景和方法"
      ],
      "id": "kgrlgKvMrYV1"
    },
    {
      "cell_type": "code",
      "execution_count": null,
      "metadata": {
        "id": "e_Srpag3rYV1"
      },
      "outputs": [],
      "source": [
        "# try异常通常用于处理可能导致程序中断的错误情况。使用场景：防止程序崩溃以及优雅地处理异常情况\n",
        "# 方法：\n",
        "try:\n",
        "    # 可能引发异常的代码块\n",
        "    # ...\n",
        "    result = 10 / 0  # 例如，除以零会触发 ZeroDivisionError 异常\n",
        "except ZeroDivisionError as e:\n",
        "    # 处理异常的代码块\n",
        "    # 这里可以处理 ZeroDivisionError 异常\n",
        "    print(\"除以零错误:\", e)\n",
        "except (TypeError, ValueError) as e:\n",
        "    # 可以捕获多种异常类型\n",
        "    print(\"类型错误或值错误:\", e)\n",
        "except Exception as e:\n",
        "    # Exception 是所有异常的基类，可以捕获所有异常，但不推荐过度使用\n",
        "    print(\"发生异常:\", e)\n",
        "else:\n",
        "    # 如果没有异常发生，执行该块代码\n",
        "    print(\"没有发生异常\")\n",
        "finally:\n",
        "    # 无论是否发生异常，都会执行的代码块\n",
        "    print(\"无论是否发生异常都会执行的代码\")\n"
      ],
      "id": "e_Srpag3rYV1"
    },
    {
      "cell_type": "markdown",
      "metadata": {
        "id": "e6H5SV-GrYV2"
      },
      "source": [
        "## 18 将字符串 \"一切有为法2如梦幻泡影4如露5亦如电6应作如是观\"，根据数字，把这个字符串分割(注: 数字不固定)。"
      ],
      "id": "e6H5SV-GrYV2"
    },
    {
      "cell_type": "code",
      "execution_count": null,
      "metadata": {
        "id": "UUtsY7s7rYV2"
      },
      "outputs": [],
      "source": [
        "import re\n",
        "text = \"一切有为法2如梦幻泡影4如露5亦如电6应作如是观\"\n",
        "result = re.split(r'(\\d+)', text) # (\\d+)匹配一个或多个数字，并保留分割结果\n",
        "result = [x for x in result if x and not x.isdigit()] # 去除空字符串和数字\n",
        "# result=['一切有为法', '如梦幻泡影', '如露', '亦如电', '应作如是观']\n"
      ],
      "id": "UUtsY7s7rYV2"
    },
    {
      "cell_type": "markdown",
      "metadata": {
        "id": "VMPfijYMrYV2"
      },
      "source": [
        "## 19   随机输入任何长度的字符串,根据六位拆分输出如果不满足六位 用0补全   \n",
        "例1:   12345678  输出  [123456,780000] ,例3:   1234 输出  [123400]\n",
        "\n",
        "\n"
      ],
      "id": "VMPfijYMrYV2"
    },
    {
      "cell_type": "code",
      "execution_count": null,
      "metadata": {
        "id": "3XBwg3JZrYV2"
      },
      "outputs": [],
      "source": [
        "def split_string(input_str):\n",
        "    result = [input_str[i:i+6].ljust(6, '0') for i in range(0, len(input_str), 6)] # 六位拆分\n",
        "    result = [int(i) for i in result] # 将元素转化为int类型\n",
        "    return result\n",
        "\n",
        "if __name__==\"__main__\"\n",
        "  input_string = \"12345678\"\n",
        "  output = split_string(input_string)\n",
        "  print(output) # 输出：[\"123456\", \"780000\"]"
      ],
      "id": "3XBwg3JZrYV2"
    },
    {
      "cell_type": "markdown",
      "metadata": {
        "id": "nfFt8UIxrYV2"
      },
      "source": [
        "## 20 将 字符串 \"ajldjlajfdljfddd\"，去重并从小到大排序输出\"adfjl\""
      ],
      "id": "nfFt8UIxrYV2"
    },
    {
      "cell_type": "code",
      "execution_count": null,
      "metadata": {
        "id": "4y2kDMkzrYV2"
      },
      "outputs": [],
      "source": [
        "input_string = \"ajldjlajfdljfddd\"\n",
        "result = ''.join(sorted(set(input_string)))# 去重并排序\n",
        "print(result)  # 输出：adfjl\n"
      ],
      "id": "4y2kDMkzrYV2"
    },
    {
      "cell_type": "markdown",
      "metadata": {
        "id": "taXX_PvUrYV2"
      },
      "source": [],
      "id": "taXX_PvUrYV2"
    },
    {
      "cell_type": "markdown",
      "metadata": {
        "id": "arfHl2TFrYV2"
      },
      "source": [
        "# 三丶机试题"
      ],
      "id": "arfHl2TFrYV2"
    },
    {
      "cell_type": "markdown",
      "metadata": {
        "id": "yG8HQKFlrYV3"
      },
      "source": [
        "## 1.发票查验"
      ],
      "id": "yG8HQKFlrYV3"
    },
    {
      "cell_type": "code",
      "execution_count": null,
      "metadata": {
        "id": "COaNGLblrYV3"
      },
      "outputs": [],
      "source": [
        "#     现有一批发票需要提取出发票信息并且生成台账\n",
        "#     提示 1.使用百度API的OCR识别的发票识别接口进行识别\n",
        "#     https://ai.baidu.com/tech/ocr_receipts/vat_invoice\n",
        "#     2.使用os模块读取发票路径\n",
        "#     3.使用pandas生成台账\n",
        "#提供代码和结果"
      ],
      "id": "COaNGLblrYV3"
    },
    {
      "cell_type": "code",
      "execution_count": null,
      "metadata": {
        "id": "wWRzObqXrYV3"
      },
      "outputs": [],
      "source": [],
      "id": "wWRzObqXrYV3"
    },
    {
      "cell_type": "markdown",
      "metadata": {
        "id": "YsGOqvJCrYV3"
      },
      "source": [
        "## 2. 数据处理"
      ],
      "id": "YsGOqvJCrYV3"
    },
    {
      "cell_type": "code",
      "execution_count": null,
      "metadata": {
        "id": "hxjSuPMNrYV3"
      },
      "outputs": [],
      "source": [
        "# 现有数据A,和数据B两帐excel表\n",
        "# 根据合同号将数据B表中的状态更新至A表\n",
        "# 删除状态为NaN数据\n",
        "# 将日期格式修改为 (yyyy-mm-dd)\n",
        "# 新建当天日期为名字的excel表  例\"20221014.xlsx\"\n",
        "# 筛选出合同状态为A且状态为正常的数据 插入新建的数据表格sheet1中,并以A命名sheet_name\n",
        "# 筛选出日期大于 2022年6月1日的数据  插入新建的数据表合sheet2中,并以B命名sheet_name\n",
        "# 提供代码和结果  推荐使用pandas  进行数据处理"
      ],
      "id": "hxjSuPMNrYV3"
    },
    {
      "cell_type": "code",
      "execution_count": 7,
      "metadata": {
        "colab": {
          "base_uri": "https://localhost:8080/"
        },
        "id": "FNNihYY2rYV3",
        "outputId": "2bbc2211-ffdd-4bae-c11a-e91c26a4878a"
      },
      "outputs": [
        {
          "output_type": "error",
          "ename": "FileNotFoundError",
          "evalue": "ignored",
          "traceback": [
            "\u001b[0;31m---------------------------------------------------------------------------\u001b[0m",
            "\u001b[0;31mFileNotFoundError\u001b[0m                         Traceback (most recent call last)",
            "\u001b[0;32m<ipython-input-7-665d0d0548a9>\u001b[0m in \u001b[0;36m<cell line: 8>\u001b[0;34m()\u001b[0m\n\u001b[1;32m      6\u001b[0m \u001b[0mfile_path_B\u001b[0m \u001b[0;34m=\u001b[0m \u001b[0;34m'./data_process/dataB.xlsx'\u001b[0m  \u001b[0;31m# 替换为数据表B的文件路径\u001b[0m\u001b[0;34m\u001b[0m\u001b[0;34m\u001b[0m\u001b[0m\n\u001b[1;32m      7\u001b[0m \u001b[0;34m\u001b[0m\u001b[0m\n\u001b[0;32m----> 8\u001b[0;31m \u001b[0mdata_A\u001b[0m \u001b[0;34m=\u001b[0m \u001b[0mpd\u001b[0m\u001b[0;34m.\u001b[0m\u001b[0mread_excel\u001b[0m\u001b[0;34m(\u001b[0m\u001b[0mfile_path_A\u001b[0m\u001b[0;34m)\u001b[0m\u001b[0;34m\u001b[0m\u001b[0;34m\u001b[0m\u001b[0m\n\u001b[0m\u001b[1;32m      9\u001b[0m \u001b[0mdata_B\u001b[0m \u001b[0;34m=\u001b[0m \u001b[0mpd\u001b[0m\u001b[0;34m.\u001b[0m\u001b[0mread_excel\u001b[0m\u001b[0;34m(\u001b[0m\u001b[0mfile_path_B\u001b[0m\u001b[0;34m)\u001b[0m\u001b[0;34m\u001b[0m\u001b[0;34m\u001b[0m\u001b[0m\n\u001b[1;32m     10\u001b[0m \u001b[0mprint\u001b[0m\u001b[0;34m(\u001b[0m\u001b[0;34m\"表格读取成功\"\u001b[0m\u001b[0;34m)\u001b[0m\u001b[0;34m\u001b[0m\u001b[0;34m\u001b[0m\u001b[0m\n",
            "\u001b[0;32m/usr/local/lib/python3.10/dist-packages/pandas/util/_decorators.py\u001b[0m in \u001b[0;36mwrapper\u001b[0;34m(*args, **kwargs)\u001b[0m\n\u001b[1;32m    209\u001b[0m                 \u001b[0;32melse\u001b[0m\u001b[0;34m:\u001b[0m\u001b[0;34m\u001b[0m\u001b[0;34m\u001b[0m\u001b[0m\n\u001b[1;32m    210\u001b[0m                     \u001b[0mkwargs\u001b[0m\u001b[0;34m[\u001b[0m\u001b[0mnew_arg_name\u001b[0m\u001b[0;34m]\u001b[0m \u001b[0;34m=\u001b[0m \u001b[0mnew_arg_value\u001b[0m\u001b[0;34m\u001b[0m\u001b[0;34m\u001b[0m\u001b[0m\n\u001b[0;32m--> 211\u001b[0;31m             \u001b[0;32mreturn\u001b[0m \u001b[0mfunc\u001b[0m\u001b[0;34m(\u001b[0m\u001b[0;34m*\u001b[0m\u001b[0margs\u001b[0m\u001b[0;34m,\u001b[0m \u001b[0;34m**\u001b[0m\u001b[0mkwargs\u001b[0m\u001b[0;34m)\u001b[0m\u001b[0;34m\u001b[0m\u001b[0;34m\u001b[0m\u001b[0m\n\u001b[0m\u001b[1;32m    212\u001b[0m \u001b[0;34m\u001b[0m\u001b[0m\n\u001b[1;32m    213\u001b[0m         \u001b[0;32mreturn\u001b[0m \u001b[0mcast\u001b[0m\u001b[0;34m(\u001b[0m\u001b[0mF\u001b[0m\u001b[0;34m,\u001b[0m \u001b[0mwrapper\u001b[0m\u001b[0;34m)\u001b[0m\u001b[0;34m\u001b[0m\u001b[0;34m\u001b[0m\u001b[0m\n",
            "\u001b[0;32m/usr/local/lib/python3.10/dist-packages/pandas/util/_decorators.py\u001b[0m in \u001b[0;36mwrapper\u001b[0;34m(*args, **kwargs)\u001b[0m\n\u001b[1;32m    329\u001b[0m                     \u001b[0mstacklevel\u001b[0m\u001b[0;34m=\u001b[0m\u001b[0mfind_stack_level\u001b[0m\u001b[0;34m(\u001b[0m\u001b[0;34m)\u001b[0m\u001b[0;34m,\u001b[0m\u001b[0;34m\u001b[0m\u001b[0;34m\u001b[0m\u001b[0m\n\u001b[1;32m    330\u001b[0m                 )\n\u001b[0;32m--> 331\u001b[0;31m             \u001b[0;32mreturn\u001b[0m \u001b[0mfunc\u001b[0m\u001b[0;34m(\u001b[0m\u001b[0;34m*\u001b[0m\u001b[0margs\u001b[0m\u001b[0;34m,\u001b[0m \u001b[0;34m**\u001b[0m\u001b[0mkwargs\u001b[0m\u001b[0;34m)\u001b[0m\u001b[0;34m\u001b[0m\u001b[0;34m\u001b[0m\u001b[0m\n\u001b[0m\u001b[1;32m    332\u001b[0m \u001b[0;34m\u001b[0m\u001b[0m\n\u001b[1;32m    333\u001b[0m         \u001b[0;31m# error: \"Callable[[VarArg(Any), KwArg(Any)], Any]\" has no\u001b[0m\u001b[0;34m\u001b[0m\u001b[0;34m\u001b[0m\u001b[0m\n",
            "\u001b[0;32m/usr/local/lib/python3.10/dist-packages/pandas/io/excel/_base.py\u001b[0m in \u001b[0;36mread_excel\u001b[0;34m(io, sheet_name, header, names, index_col, usecols, squeeze, dtype, engine, converters, true_values, false_values, skiprows, nrows, na_values, keep_default_na, na_filter, verbose, parse_dates, date_parser, thousands, decimal, comment, skipfooter, convert_float, mangle_dupe_cols, storage_options)\u001b[0m\n\u001b[1;32m    480\u001b[0m     \u001b[0;32mif\u001b[0m \u001b[0;32mnot\u001b[0m \u001b[0misinstance\u001b[0m\u001b[0;34m(\u001b[0m\u001b[0mio\u001b[0m\u001b[0;34m,\u001b[0m \u001b[0mExcelFile\u001b[0m\u001b[0;34m)\u001b[0m\u001b[0;34m:\u001b[0m\u001b[0;34m\u001b[0m\u001b[0;34m\u001b[0m\u001b[0m\n\u001b[1;32m    481\u001b[0m         \u001b[0mshould_close\u001b[0m \u001b[0;34m=\u001b[0m \u001b[0;32mTrue\u001b[0m\u001b[0;34m\u001b[0m\u001b[0;34m\u001b[0m\u001b[0m\n\u001b[0;32m--> 482\u001b[0;31m         \u001b[0mio\u001b[0m \u001b[0;34m=\u001b[0m \u001b[0mExcelFile\u001b[0m\u001b[0;34m(\u001b[0m\u001b[0mio\u001b[0m\u001b[0;34m,\u001b[0m \u001b[0mstorage_options\u001b[0m\u001b[0;34m=\u001b[0m\u001b[0mstorage_options\u001b[0m\u001b[0;34m,\u001b[0m \u001b[0mengine\u001b[0m\u001b[0;34m=\u001b[0m\u001b[0mengine\u001b[0m\u001b[0;34m)\u001b[0m\u001b[0;34m\u001b[0m\u001b[0;34m\u001b[0m\u001b[0m\n\u001b[0m\u001b[1;32m    483\u001b[0m     \u001b[0;32melif\u001b[0m \u001b[0mengine\u001b[0m \u001b[0;32mand\u001b[0m \u001b[0mengine\u001b[0m \u001b[0;34m!=\u001b[0m \u001b[0mio\u001b[0m\u001b[0;34m.\u001b[0m\u001b[0mengine\u001b[0m\u001b[0;34m:\u001b[0m\u001b[0;34m\u001b[0m\u001b[0;34m\u001b[0m\u001b[0m\n\u001b[1;32m    484\u001b[0m         raise ValueError(\n",
            "\u001b[0;32m/usr/local/lib/python3.10/dist-packages/pandas/io/excel/_base.py\u001b[0m in \u001b[0;36m__init__\u001b[0;34m(self, path_or_buffer, engine, storage_options)\u001b[0m\n\u001b[1;32m   1650\u001b[0m                 \u001b[0mext\u001b[0m \u001b[0;34m=\u001b[0m \u001b[0;34m\"xls\"\u001b[0m\u001b[0;34m\u001b[0m\u001b[0;34m\u001b[0m\u001b[0m\n\u001b[1;32m   1651\u001b[0m             \u001b[0;32melse\u001b[0m\u001b[0;34m:\u001b[0m\u001b[0;34m\u001b[0m\u001b[0;34m\u001b[0m\u001b[0m\n\u001b[0;32m-> 1652\u001b[0;31m                 ext = inspect_excel_format(\n\u001b[0m\u001b[1;32m   1653\u001b[0m                     \u001b[0mcontent_or_path\u001b[0m\u001b[0;34m=\u001b[0m\u001b[0mpath_or_buffer\u001b[0m\u001b[0;34m,\u001b[0m \u001b[0mstorage_options\u001b[0m\u001b[0;34m=\u001b[0m\u001b[0mstorage_options\u001b[0m\u001b[0;34m\u001b[0m\u001b[0;34m\u001b[0m\u001b[0m\n\u001b[1;32m   1654\u001b[0m                 )\n",
            "\u001b[0;32m/usr/local/lib/python3.10/dist-packages/pandas/io/excel/_base.py\u001b[0m in \u001b[0;36minspect_excel_format\u001b[0;34m(content_or_path, storage_options)\u001b[0m\n\u001b[1;32m   1523\u001b[0m         \u001b[0mcontent_or_path\u001b[0m \u001b[0;34m=\u001b[0m \u001b[0mBytesIO\u001b[0m\u001b[0;34m(\u001b[0m\u001b[0mcontent_or_path\u001b[0m\u001b[0;34m)\u001b[0m\u001b[0;34m\u001b[0m\u001b[0;34m\u001b[0m\u001b[0m\n\u001b[1;32m   1524\u001b[0m \u001b[0;34m\u001b[0m\u001b[0m\n\u001b[0;32m-> 1525\u001b[0;31m     with get_handle(\n\u001b[0m\u001b[1;32m   1526\u001b[0m         \u001b[0mcontent_or_path\u001b[0m\u001b[0;34m,\u001b[0m \u001b[0;34m\"rb\"\u001b[0m\u001b[0;34m,\u001b[0m \u001b[0mstorage_options\u001b[0m\u001b[0;34m=\u001b[0m\u001b[0mstorage_options\u001b[0m\u001b[0;34m,\u001b[0m \u001b[0mis_text\u001b[0m\u001b[0;34m=\u001b[0m\u001b[0;32mFalse\u001b[0m\u001b[0;34m\u001b[0m\u001b[0;34m\u001b[0m\u001b[0m\n\u001b[1;32m   1527\u001b[0m     ) as handle:\n",
            "\u001b[0;32m/usr/local/lib/python3.10/dist-packages/pandas/io/common.py\u001b[0m in \u001b[0;36mget_handle\u001b[0;34m(path_or_buf, mode, encoding, compression, memory_map, is_text, errors, storage_options)\u001b[0m\n\u001b[1;32m    863\u001b[0m         \u001b[0;32melse\u001b[0m\u001b[0;34m:\u001b[0m\u001b[0;34m\u001b[0m\u001b[0;34m\u001b[0m\u001b[0m\n\u001b[1;32m    864\u001b[0m             \u001b[0;31m# Binary mode\u001b[0m\u001b[0;34m\u001b[0m\u001b[0;34m\u001b[0m\u001b[0m\n\u001b[0;32m--> 865\u001b[0;31m             \u001b[0mhandle\u001b[0m \u001b[0;34m=\u001b[0m \u001b[0mopen\u001b[0m\u001b[0;34m(\u001b[0m\u001b[0mhandle\u001b[0m\u001b[0;34m,\u001b[0m \u001b[0mioargs\u001b[0m\u001b[0;34m.\u001b[0m\u001b[0mmode\u001b[0m\u001b[0;34m)\u001b[0m\u001b[0;34m\u001b[0m\u001b[0;34m\u001b[0m\u001b[0m\n\u001b[0m\u001b[1;32m    866\u001b[0m         \u001b[0mhandles\u001b[0m\u001b[0;34m.\u001b[0m\u001b[0mappend\u001b[0m\u001b[0;34m(\u001b[0m\u001b[0mhandle\u001b[0m\u001b[0;34m)\u001b[0m\u001b[0;34m\u001b[0m\u001b[0;34m\u001b[0m\u001b[0m\n\u001b[1;32m    867\u001b[0m \u001b[0;34m\u001b[0m\u001b[0m\n",
            "\u001b[0;31mFileNotFoundError\u001b[0m: [Errno 2] No such file or directory: './data_process/dataA.xlsx'"
          ]
        }
      ],
      "source": [
        "import pandas as pd\n",
        "from datetime import datetime\n",
        "\n",
        "# 读取两个Excel文件数据\n",
        "file_path_A = '数据A.xlsx'  # 数据表A的文件路径\n",
        "file_path_B = '数据B.xlsx'  # 数据表B的文件路径\n",
        "print(\"开始读取表格\")\n",
        "data_A = pd.read_excel(file_path_A, engine='openpyxl')\n",
        "data_B = pd.read_excel(file_path_B, engine='openpyxl')\n",
        "print(\"已成功读取表格\")\n",
        "\n",
        "# 根据合同号将数据B表中的状态更新至A表\n",
        "data_A['状态'] = data_A['合同号'].map(data_B.set_index('合同号')['状态'])\n",
        "print(\"已成功将B表的状态更新至A表\")\n",
        "\n",
        "# # 删除状态为NaN的数据\n",
        "data_A.dropna(subset=['状态'], inplace=True)\n",
        "print(\"已删除状态为NaN的数据\")\n",
        "\n",
        "\n",
        "# 将日期格式修改为yyyy-mm-dd\n",
        "data_A['日期'] = pd.to_datetime(\n",
        "    data_A['日期'], format='%Y%m%d').dt.strftime('%Y-%m-%d')\n",
        "print(\"已修改日期格式\")\n",
        "\n",
        "# 新建当天日期为名字的Excel表\n",
        "today = datetime.now().strftime('%Y%m%d')\n",
        "output_filename = f\"{today}.xlsx\"\n",
        "print(\"已成功新建表格\")\n",
        "\n",
        "# 筛选出合同状态为A且状态为正常的数据，插入新建的数据表格sheet1中\n",
        "sheet_A = data_A[(data_A['合同状态'] == 'A') & (data_A['状态'] == '正常')]\n",
        "with pd.ExcelWriter(output_filename) as writer:\n",
        "    sheet_A.to_excel(writer, sheet_name='A', index=False)\n",
        "print(\"已成功插入数据发到sheet1中并改名为A\")\n",
        "\n",
        "# 筛选出日期大于2022年6月1日的数据，插入新建的数据表格sheet2中\n",
        "date_criteria = datetime(2022, 6, 1)\n",
        "sheet_B = data_A[pd.to_datetime(data_A['日期']) > date_criteria]\n",
        "with pd.ExcelWriter(output_filename, mode='a') as writer:\n",
        "    sheet_B.to_excel(writer, sheet_name='B', index=False)\n",
        "print(\"已成功插入数据发到sheet2中并改名为B\")\n",
        "\n"
      ],
      "id": "FNNihYY2rYV3"
    },
    {
      "cell_type": "code",
      "execution_count": null,
      "metadata": {
        "id": "4g1Mx67prYV4"
      },
      "outputs": [],
      "source": [
        "\n"
      ],
      "id": "4g1Mx67prYV4"
    },
    {
      "cell_type": "code",
      "execution_count": null,
      "metadata": {
        "id": "llff98mKrYV4"
      },
      "outputs": [],
      "source": [],
      "id": "llff98mKrYV4"
    },
    {
      "cell_type": "code",
      "execution_count": null,
      "metadata": {
        "id": "9a3FmibsrYV4"
      },
      "outputs": [],
      "source": [],
      "id": "9a3FmibsrYV4"
    },
    {
      "cell_type": "code",
      "execution_count": null,
      "metadata": {
        "id": "HOkFO2IXrYV4"
      },
      "outputs": [],
      "source": [],
      "id": "HOkFO2IXrYV4"
    },
    {
      "cell_type": "code",
      "execution_count": null,
      "metadata": {
        "id": "rCM61SiqrYV4"
      },
      "outputs": [],
      "source": [],
      "id": "rCM61SiqrYV4"
    },
    {
      "cell_type": "code",
      "execution_count": null,
      "metadata": {
        "id": "cf3YjtSqrYV4"
      },
      "outputs": [],
      "source": [],
      "id": "cf3YjtSqrYV4"
    },
    {
      "cell_type": "code",
      "execution_count": null,
      "metadata": {
        "id": "f2dNYM4hrYV4"
      },
      "outputs": [],
      "source": [],
      "id": "f2dNYM4hrYV4"
    },
    {
      "cell_type": "code",
      "execution_count": null,
      "metadata": {
        "id": "cDP42G13rYV5"
      },
      "outputs": [],
      "source": [],
      "id": "cDP42G13rYV5"
    },
    {
      "cell_type": "code",
      "execution_count": null,
      "metadata": {
        "id": "-YcnEFVMrYV5"
      },
      "outputs": [],
      "source": [],
      "id": "-YcnEFVMrYV5"
    },
    {
      "cell_type": "code",
      "execution_count": null,
      "metadata": {
        "id": "nstINCxurYV5"
      },
      "outputs": [],
      "source": [],
      "id": "nstINCxurYV5"
    },
    {
      "cell_type": "code",
      "execution_count": null,
      "metadata": {
        "id": "a0z0bHeFrYV5"
      },
      "outputs": [],
      "source": [],
      "id": "a0z0bHeFrYV5"
    },
    {
      "cell_type": "code",
      "execution_count": null,
      "metadata": {
        "id": "r9aznmaPrYV5"
      },
      "outputs": [],
      "source": [],
      "id": "r9aznmaPrYV5"
    }
  ],
  "metadata": {
    "kernelspec": {
      "display_name": "Python 3",
      "language": "python",
      "name": "python3"
    },
    "language_info": {
      "codemirror_mode": {
        "name": "ipython",
        "version": 3
      },
      "file_extension": ".py",
      "mimetype": "text/x-python",
      "name": "python",
      "nbconvert_exporter": "python",
      "pygments_lexer": "ipython3",
      "version": "3.6.5"
    },
    "colab": {
      "provenance": [],
      "include_colab_link": true
    }
  },
  "nbformat": 4,
  "nbformat_minor": 5
}